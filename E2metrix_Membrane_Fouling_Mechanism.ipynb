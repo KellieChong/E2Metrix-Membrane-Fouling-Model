{
  "nbformat": 4,
  "nbformat_minor": 0,
  "metadata": {
    "colab": {
      "name": "E2metrix Membrane Fouling Mechanism.ipynb",
      "provenance": [],
      "authorship_tag": "ABX9TyN1bjBokGTAfK/zZrUEgzTX",
      "include_colab_link": true
    },
    "kernelspec": {
      "name": "python3",
      "display_name": "Python 3"
    }
  },
  "cells": [
    {
      "cell_type": "markdown",
      "metadata": {
        "id": "view-in-github",
        "colab_type": "text"
      },
      "source": [
        "<a href=\"https://colab.research.google.com/github/KellieChong/E2Metrix-Membrane-Fouling-Model/blob/main/E2metrix_Membrane_Fouling_Mechanism.ipynb\" target=\"_parent\"><img src=\"https://colab.research.google.com/assets/colab-badge.svg\" alt=\"Open In Colab\"/></a>"
      ]
    },
    {
      "cell_type": "markdown",
      "metadata": {
        "id": "Qvf41vfcCq4F"
      },
      "source": [
        "First we will import the necessary packages."
      ]
    },
    {
      "cell_type": "code",
      "metadata": {
        "id": "5-ghJLu2CczS"
      },
      "source": [
        "\n",
        "import pandas as pd\n",
        "import numpy as np\n",
        "import matplotlib.pyplot as plt\n",
        "import ipywidgets as widgets\n",
        "import math\n",
        "#import os\n",
        "#import io\n",
        "#from six.moves import urllib\n",
        "from google.colab import files\n",
        "from scipy.optimize import minimize_scalar, fmin\n",
        "from mpl_toolkits import mplot3d"
      ],
      "execution_count": null,
      "outputs": []
    },
    {
      "cell_type": "code",
      "metadata": {
        "id": "NOMSKF5DvH6Y"
      },
      "source": [
        "# Now we will add the csv files from my github\n",
        "url001 = \"https://raw.githubusercontent.com/KellieChong/E2Metrix-Membrane-Fouling-Model/79d29886800a484d0e519d409848c40f4225547b/200%20nm%20-%2020%20psi/01-20-2021-001.csv\"\n",
        "url002 = \"https://raw.githubusercontent.com/KellieChong/E2Metrix-Membrane-Fouling-Model/79d29886800a484d0e519d409848c40f4225547b/200%20nm%20-%2020%20psi/01-20-2021-002.csv\"\n",
        "url003 = \"https://raw.githubusercontent.com/KellieChong/E2Metrix-Membrane-Fouling-Model/79d29886800a484d0e519d409848c40f4225547b/200%20nm%20-%2020%20psi/01-20-2021-003.csv\"\n",
        "url004 = \"https://raw.githubusercontent.com/KellieChong/E2Metrix-Membrane-Fouling-Model/79d29886800a484d0e519d409848c40f4225547b/200%20nm%20-%2020%20psi/01-20-2021-004.csv\"\n",
        "\n",
        "# Data frames are now to be loaded\n",
        "df001 = pd.read_csv(url001)\n",
        "df002 = pd.read_csv(url002)\n",
        "df003 = pd.read_csv(url003)\n",
        "df004 = pd.read_csv(url004)\n",
        "\n",
        "# Plot our spliced raw data files for visualization\n",
        "'''plt.plot(df001[\"time\"], df001[\"J_v\"], label = \"0-1h\")\n",
        "plt.plot(df002[\"time\"], df002[\"J_v\"], label = \"1-2h\")\n",
        "plt.plot(df003[\"time\"], df003[\"J_v\"], label = \"2-3h\")\n",
        "plt.plot(df004[\"time\"], df004[\"J_v\"], label = \"3-4h\")\n",
        "plt.title = (\"Normalized Flux vs. Time\")\n",
        "plt.xlabel = (\"time (h)\")\n",
        "plt.ylabel = (\"Normalized Flux (LMH)\")\n",
        "plt.legend()\n",
        "plt.show()'''\n",
        "\n",
        "ax = df001.plot(x=\"time\", y = \"J_v\", label = \"0-1h\", xlabel = \"time (h)\", ylabel = \"Normalized Flux (LMH)\", title = \"Normalized Flux Vs. Time\", color = \"hotpink\")\n",
        "df002.plot(x = \"time\", y = \"J_v\", label = \"1-2h\", color = \"mediumslateblue\", ax=ax)\n",
        "df003.plot(x = \"time\", y = \"J_v\", label = \"2-3h\", color = \"midnightblue\", ax=ax)\n",
        "df003.plot(x = \"time\", y = \"J_v\", label = \"3-4h\", color = \"lightseagreen\", ax=ax)"
      ],
      "execution_count": null,
      "outputs": []
    },
    {
      "cell_type": "code",
      "metadata": {
        "id": "wNsaSgjdydiU"
      },
      "source": [
        "# Now we'll create the functions and store them into arrays to later be compared to our raw data to see the mechanism of fouling\n",
        "#4 possibilities exist: 1:Complete Pore Blocking, 2: Intermediate Blocking, 3: Pore constriction, and 4: Cake filtration\n",
        "database = [[df001[\"J_v\"][0], df002[\"J_v\"][0], df003[\"J_v\"][0], df004[\"J_v\"][0]], #the Jo values\n",
        "            [df001[\"J_v\"], df002[\"J_v\"], df003[\"J_v\"], df004[\"J_v\"]], # J_v values\n",
        "            [df001[\"time\"], df002[\"time\"], df003[\"time\"], df004[\"time\"]]] # time intervals\n",
        "\n",
        "# Let's the user choose the test of interest\n",
        "test = widgets.Dropdown(options = [(\"0-1h\", 0), (\"1-2h\", 1), (\"2-3h\", 2), (\"3-4h\", 3)], description = \"Choose your dataset of interest:\")\n",
        "\n",
        "# These are all column vectors\n",
        "Y = database[1][test.value].to_numpy()/database[0][test.value]\n",
        "t = database[2][test.value]\n",
        "K_block = np.linspace(0, 1.0, len(t))\n",
        "\n",
        "x, y = np.meshgrid(t, K_block)\n",
        "z = np.square(Y - np.exp(-x*y))\n",
        "#def K_block (K_block, t):\n",
        "#    sol1 = np.exp((np.transpose(K_block)) * -t)\n",
        "#    return sol1\n",
        "\n",
        "#print(Y)\n",
        "#t_reshaped = np.reshape(-t, (1, len(t)))\n",
        "#K_b_reshaped = np.reshape(K_block, (len(t), 1))\n",
        "#y_pred = np.reshape(K_block, (len(t), 1)) * np.reshape(-t, (1, len(t)))\n",
        "Y_mat = np.tile(np.array(np.reshape(Y, (1, len(t)))), (len(t), 1))\n",
        "#print(Y_mat.shape)\n",
        "y_pred = np.zeros((len(t), len(t)))\n",
        "\n",
        "i=0\n",
        "j=0\n",
        "\n",
        "for i in range(len(t)):\n",
        "  for j in range(len(t)):\n",
        "    y_pred[i][j] = np.exp(K_block[i] * -t[j])\n",
        "    if j == len(t):\n",
        "      break\n",
        "    else:\n",
        "      j += 1\n",
        "  i += 1\n",
        "  if i == len(t):\n",
        "    break\n",
        "\n",
        "RSS = np.square((Y_mat - y_pred))\n",
        "\n",
        "#print(RSS)\n",
        "#print(y_pred)\n",
        "\n",
        "#def RSS(K_block, t, Y):\n",
        "    #y_pred = K_block(K_block, t)\n",
        " #   residual_sum = sum((Y - y_pred) ** 2)\n",
        " #   return residual_sum\n",
        "\n",
        "#print(np.reshape(K_block, (len(t),1)))\n",
        "#fig1 = plt.figure(figsize =(6,6))\n",
        "#ax = fig1.add_subplot(projection='3d')\n",
        "#ax.plot_surface(x, y, z)\n",
        "#plt.xlabel(\"time (h)\")\n",
        "#plt.ylabel(\"K_block\")\n",
        "#ax.set_zlabel(\"RSS\")\n",
        "\n",
        "#plt.imshow(RSS)\n",
        "#plt.colorbar()\n",
        "plt.show()\n",
        "#res = minimize_scalar(RSS, bounds=(-100, 100), method= 'bounded')\n",
        "#res.x \n",
        "\n",
        "display(test)\n"
      ],
      "execution_count": null,
      "outputs": []
    },
    {
      "cell_type": "code",
      "metadata": {
        "id": "GSN41Ja3S9Zq"
      },
      "source": [
        "Y = database[1][test.value].to_numpy()/database[0][test.value]\r\n",
        "t = database[2][test.value]\r\n",
        "K_block = np.linspace(0, 1.0, len(t))\r\n",
        "\r\n",
        "x, y = np.meshgrid(t, K_block)\r\n",
        "z1 = np.square(Y - np.exp(-x*y))\r\n",
        "\r\n",
        "zmin = np.min(z1)\r\n",
        "mask = np.array(1) == zmin\r\n",
        "color = np.where(mask,'red', 'blue')\r\n",
        "\r\n",
        "fig1 = plt.figure(figsize =(6,6))\r\n",
        "ax = fig1.add_subplot(111, projection='3d')\r\n",
        "ax.plot_surface(x, y, z1)\r\n",
        "plt.xlabel(\"time (h)\")\r\n",
        "plt.ylabel(\"K_block\")\r\n",
        "ax.set_zlabel(\"RSS\")\r\n",
        "plt.show()\r\n",
        "print(z1 in z1==zmin)\r\n"
      ],
      "execution_count": null,
      "outputs": []
    },
    {
      "cell_type": "code",
      "metadata": {
        "id": "VbAL8F6wYWnO"
      },
      "source": [
        "from scipy.optimize import minimize\r\n",
        "\r\n",
        "ALPHA_TRUE = 0.5 # used only to generate some test data\r\n",
        "\r\n",
        "def model(t, K_block):\r\n",
        "    # here you need to implement your real model\r\n",
        "    # for Predicted_Installation\r\n",
        "    y_pred = np.exp(K_block * -t)\r\n",
        "    return y_pred\r\n",
        "\r\n",
        "def sum_of_squares(Y):\r\n",
        "    y_pred = model(t, K_block)\r\n",
        "    obj = np.sqrt(((y_pred - Y) ** 2).sum())\r\n",
        "    return obj\r\n",
        "\r\n",
        "\r\n",
        "# generate some test data\r\n",
        "X = time\r\n",
        "Y = model([ALPHA_TRUE], X) # Original_Installation\r\n",
        "\r\n",
        "\r\n",
        "# perform fit to find optimal parameters\r\n",
        "# initial value for alpha (guess)\r\n",
        "alpha_0 = 0.1\r\n",
        "\r\n",
        "res = minimize(sum_of_squares, [alpha_0, ], args=(X, Y), tol=1e-3, method=\"Powell\")\r\n",
        "print(res)"
      ],
      "execution_count": null,
      "outputs": []
    }
  ]
}